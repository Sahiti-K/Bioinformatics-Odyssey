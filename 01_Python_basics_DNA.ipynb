{
  "cells": [
    {
      "cell_type": "markdown",
      "metadata": {
        "id": "view-in-github",
        "colab_type": "text"
      },
      "source": [
        "<a href=\"https://colab.research.google.com/github/Sahiti-K/Bioinformatics-Odyssey/blob/main/01_Python_basics_DNA.ipynb\" target=\"_parent\"><img src=\"https://colab.research.google.com/assets/colab-badge.svg\" alt=\"Open In Colab\"/></a>"
      ]
    },
    {
      "cell_type": "markdown",
      "id": "3202cb33",
      "metadata": {
        "id": "3202cb33"
      },
      "source": [
        "# Python Basics for Bioinformatics\n",
        "\n",
        "Core Python fundamentals for biological data interpretation.\n",
        "\n",
        "\n",
        "------"
      ]
    },
    {
      "cell_type": "markdown",
      "id": "5587c426",
      "metadata": {
        "id": "5587c426"
      },
      "source": [
        "## Variables and Data Types\n"
      ]
    },
    {
      "cell_type": "code",
      "execution_count": null,
      "id": "04d95855",
      "metadata": {
        "id": "04d95855"
      },
      "outputs": [],
      "source": [
        "# Biology-themed examples of Python data types\n",
        "gene_length = 1500              # int\n",
        "gc_content = 56.2               # float\n",
        "gene_name = \"BRCA1\"             # string\n",
        "has_start_codon = True          # boolean\n",
        "\n",
        "print(type(gene_length), type(gc_content), type(gene_name), type(has_start_codon))"
      ]
    },
    {
      "cell_type": "markdown",
      "id": "81195907",
      "metadata": {
        "id": "81195907"
      },
      "source": [
        "## String Operations"
      ]
    },
    {
      "cell_type": "code",
      "execution_count": null,
      "id": "61a9ed51",
      "metadata": {
        "id": "61a9ed51"
      },
      "outputs": [],
      "source": [
        "# DNA sequence stored as a string\n",
        "dna = input('Enter your DNA sequence: ').upper() or \"ATGCGTAC\"\n",
        "\n",
        "print(\"DNA Sequence:\", dna)\n",
        "print('Length:', len(dna))\n",
        "print(\"A:\", dna.count(\"A\"))\n",
        "print(\"T:\", dna.count(\"T\"))\n",
        "print(\"G:\", dna.count(\"G\"))\n",
        "print(\"C:\", dna.count(\"C\"))\n",
        "print('GC Content:', (dna.count('G') + dna.count('C')) / len(dna) * 100)\n",
        "print(\"First base:\", dna[0])\n",
        "print(\"Last 3 bases:\", dna[-3:])\n",
        "print(\"Codons (first 3):\", dna[0:9])\n",
        "print(\"RNA Transcript:\", dna.replace(\"T\", \"U\"))"
      ]
    },
    {
      "cell_type": "markdown",
      "id": "7bffb997",
      "metadata": {
        "id": "7bffb997"
      },
      "source": [
        "##  Lists and Indexing\n"
      ]
    },
    {
      "cell_type": "code",
      "execution_count": null,
      "id": "3d53b9bf",
      "metadata": {
        "id": "3d53b9bf"
      },
      "outputs": [],
      "source": [
        "# Lists store multiple values\n",
        "\n",
        "bases = ['A', 'T', 'G', 'C']\n",
        "print(\"All bases:\", bases)\n",
        "print(\"2nd base:\", bases[1])\n",
        "\n",
        "# You can loop through lists\n",
        "for base in bases:\n",
        "    print(\"Base:\", base)\n",
        "\n",
        "# Genes can be stored in a list\n",
        "genes = ['BRCA1', 'TP53', 'EGFR']\n",
        "print(\"Genes:\", genes)\n",
        "print(genes[0])\n",
        "genes.append('MYC')\n",
        "print(\"New genes:\", genes)"
      ]
    },
    {
      "cell_type": "markdown",
      "id": "ZKBscJCDwMYZ",
      "metadata": {
        "id": "ZKBscJCDwMYZ"
      },
      "source": [
        "###Functions"
      ]
    },
    {
      "cell_type": "code",
      "source": [
        "def gc_content(seq):\n",
        "    # Returns GC content (%) of a DNA sequence.\n",
        "    return (seq.count(\"G\") + seq.count(\"C\")) / len(seq) * 100\n",
        "\n",
        "def transcribe(seq):\n",
        "    # Converts DNA to RNA by replacing all thymine (T) with uracil (U)\n",
        "    return seq.replace(\"T\", \"U\")\n",
        "\n",
        "def base_counts(seq):\n",
        "    # Counts occurrences of each nucleotide (A, T, G, C) in the DNA sequence\n",
        "    return {base: seq.count(base) for base in \"ATGC\"}\n",
        "\n",
        "def has_start_codon(seq):\n",
        "    # Checks if the DNA sequence contains a start codon 'ATG'\n",
        "    return \"ATG\" in seq\n",
        "\n",
        "def reverse_complement(seq):\n",
        "    # Returns the reverse complement of a DNA sequence\n",
        "    return seq.translate(str.maketrans(\"ATGC\", \"TACG\"))[::-1]\n",
        "\n",
        "def hamming_distance(s1, s2):\n",
        "    # Calculates number of mismatched bases between two sequences of equal length\n",
        "    return sum(c1 != c2 for c1, c2 in zip(s1, s2))\n",
        "\n",
        "# Tests\n",
        "print(\"GC%:\", gc_content(\"GGGCCC\"))\n",
        "print(\"RNA:\", transcribe(\"ATGC\"))\n",
        "print(\"Base counts:\", base_counts(\"ATGCATGC\"))\n",
        "print(\"Start codon present?\", has_start_codon(\"CGGATGCCGAT\"))\n",
        "print(\"Rev. Complement:\", reverse_complement(\"ATGC\"))\n",
        "print(\"Hamming Distance:\", hamming_distance(\"GAGCCT\", \"CATCGT\"))"
      ],
      "metadata": {
        "id": "OrF9u7xr-4ob"
      },
      "id": "OrF9u7xr-4ob",
      "execution_count": null,
      "outputs": []
    },
    {
      "cell_type": "markdown",
      "source": [
        "#Rosalind Problems\n",
        "\n",
        "----\n",
        "\n",
        "1. Counting DNA Nucleotides\n",
        "2. Transcribing DNA to RNA\n",
        "3. Counting Point Mutations\n"
      ],
      "metadata": {
        "id": "WjGNshcPbQfl"
      },
      "id": "WjGNshcPbQfl"
    },
    {
      "cell_type": "markdown",
      "source": [
        "###Counting DNA Nucleotides"
      ],
      "metadata": {
        "id": "L2A2Ld9AgOL5"
      },
      "id": "L2A2Ld9AgOL5"
    },
    {
      "cell_type": "code",
      "source": [
        "def base_counts(seq):\n",
        "    counts = {\n",
        "        \"A\": seq.count(\"A\"),\n",
        "        \"T\": seq.count(\"T\"),\n",
        "        \"G\": seq.count(\"G\"),\n",
        "        \"C\": seq.count(\"C\")\n",
        "    }\n",
        "    return counts\n",
        "# Accepts sequence as input to make the function reusable\n",
        "seq = input('Enter your DNA sequence: ').upper() or \"ATGCGTAC\"\n",
        "print(\"Base counts:\", base_counts(seq))"
      ],
      "metadata": {
        "id": "eK6WWYEGf8MZ"
      },
      "execution_count": null,
      "outputs": [],
      "id": "eK6WWYEGf8MZ"
    },
    {
      "cell_type": "markdown",
      "source": [
        "###Transcribing DNA into RNA"
      ],
      "metadata": {
        "id": "8uxtdi6XdxZu"
      },
      "id": "8uxtdi6XdxZu"
    },
    {
      "cell_type": "code",
      "source": [
        "def Transcribe_DNA_to_RNA(seq):\n",
        "    return seq.replace(\"T\", \"U\")\n",
        "\n",
        "seq = input('Enter your DNA sequence: ').upper() or \"ATGCGTAC\"\n",
        "print(\"RNA: \",Transcribe_DNA_to_RNA(seq))"
      ],
      "metadata": {
        "colab": {
          "base_uri": "https://localhost:8080/"
        },
        "id": "QE5Ty-bdX3GS",
        "outputId": "ae644b2d-d6d9-48ec-bbc3-60f8bbeee9ad"
      },
      "execution_count": null,
      "outputs": [
        {
          "output_type": "stream",
          "name": "stdout",
          "text": [
            "Enter your DNA sequence: \n",
            "RNA:  AUGCGUAC\n"
          ]
        }
      ],
      "id": "QE5Ty-bdX3GS"
    },
    {
      "cell_type": "markdown",
      "source": [
        "###Complementing a Strand of DNA\n"
      ],
      "metadata": {
        "id": "58a0o5IQjJwu"
      },
      "id": "58a0o5IQjJwu"
    },
    {
      "cell_type": "code",
      "source": [
        "def reverse_complement(dna):\n",
        "    complement = {'A': 'T', 'T': 'A', 'G': 'C', 'C': 'G'}\n",
        "    return ''.join([complement[base] for base in reversed(dna)])\n",
        "dna = input('Enter your DNA sequence: ').upper() or \"ATGCGTAC\"\n",
        "print(reverse_complement(dna))"
      ],
      "metadata": {
        "id": "A--J8huCkUhA"
      },
      "execution_count": null,
      "outputs": [],
      "id": "A--J8huCkUhA"
    },
    {
      "cell_type": "markdown",
      "source": [
        "###Counting Point Mutations - Hamming Distance"
      ],
      "metadata": {
        "id": "88Je2i99HAoY"
      },
      "id": "88Je2i99HAoY"
    },
    {
      "cell_type": "code",
      "source": [
        "def hamming_distance(s1, s2):\n",
        "    return sum(c1 != c2 for c1, c2 in zip(s1, s2))\n",
        "s1 = input('Enter your DNA sequence: ').upper() or \"ATGCGTAC\"\n",
        "s2 = input('Enter your DNA sequence: ').upper() or \"ATTCGCAG\"\n",
        "print(hamming_distance(s1, s2))"
      ],
      "metadata": {
        "id": "9gQPhW8rHBAy"
      },
      "execution_count": null,
      "outputs": [],
      "id": "9gQPhW8rHBAy"
    }
  ],
  "metadata": {
    "colab": {
      "provenance": [],
      "include_colab_link": true
    },
    "kernelspec": {
      "display_name": "Python 3",
      "name": "python3"
    },
    "language_info": {
      "name": "python"
    }
  },
  "nbformat": 4,
  "nbformat_minor": 5
}